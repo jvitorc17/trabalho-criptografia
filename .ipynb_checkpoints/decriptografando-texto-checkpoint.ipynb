{
 "cells": [
  {
   "cell_type": "markdown",
   "metadata": {},
   "source": [
    "## Decriptografando um texto cifrado\n",
    "### - Técnica: Cifras monoalfabéticas"
   ]
  },
  {
   "cell_type": "code",
   "execution_count": 2,
   "metadata": {
    "collapsed": true
   },
   "outputs": [],
   "source": [
    "cifra = \"lrvmnir bpr sumvbwvr jx bpr lmiwv yjeryrkbi jx qmbm wi bpr xjvni mkd ymibrut jx irhx wi bpr riirkvr jx ymbinlmtmipw utn qmumbr dj w ipmhh but bj rhnvwdmbr bpr yjeryrkbi jx bpr qmbm mvvjudwko bj yt wkbrusurbmbwjk lmird jk xjubt trmui jx ibndt wb wi kjb mk rmit bmiq bj rashmwk rmvp yjeryrkb mkd wbi iwokwxwvmkvr mkd ijyr ynib urymwk nkrashmwkrd bj ower m vjyshrbr rashmkmbwjk jkr cjnhd pmer bj lr fnmhwxwrd mkd wkiswurd bj invp mk rabrkb bpmb pr vjnhd urmvp bpr ibmbr jx rkhwopbrkrd ywkd vmsmlhr jx urvjokwgwko ijnkdhrii ijnkd mkd ipmsrhrii ipmsr w dj kjb drry ytirhx bpr xwkmh mnbpjuwbt lnb yt rasruwrkvr cwbp qmbm pmi hrxb kj djnlb bpmb bpr xjhhjcwko wi bpr sujsru msshwvmbwjk mkd wkbrusurbmbwjk w jxxru yt bprjuwri wk bpr pjsr bpmb bpr riirkvr jx jqwkmcmk qmumbr cwhh urymwk wkbmvb\"\n",
    "\n",
    "frequencia_cifra = {}\n",
    "\n",
    "\n",
    "#MAPA DE FREQUÊNCIA RELATIVA DE PALAVRAS EM INGLÊS\n",
    "frequencia_letras_ingles = {'a':8.167,'b':1.492,'c':2.782,'d':4.253,'e':12.702,\n",
    "'f':2.228,'g':2.015,'h':6.094,'i':6.996,'j':0.153,'k':0.772,'l':4.024,\n",
    "'m':2.406,'n':6.749,'o':7.507,'p':1.929,'q':0.095,'r':5.987,'s':6.327,\n",
    "'t':9.056,'u':2.758,'v':0.978,'w':2.360,'x':0.150,'y':1.974,'z':0.074}\n"
   ]
  },
  {
   "cell_type": "code",
   "execution_count": 3,
   "metadata": {
    "collapsed": false
   },
   "outputs": [],
   "source": [
    "#Passo 1: Calcular a frequência relativa de cada letra na cifra para assim comparar com a frequência relativa das\n",
    "#palavras em inglês\n",
    "for c in cifra:\n",
    "    if(c!=' ' and (c not in frequencia_cifra)):\n",
    "        frequencia_cifra[c]=1\n",
    "    elif(c!=' ' and (c in frequencia_cifra)):\n",
    "        frequencia_cifra[c]+=1"
   ]
  },
  {
   "cell_type": "code",
   "execution_count": 4,
   "metadata": {
    "collapsed": false
   },
   "outputs": [],
   "source": [
    "import operator\n",
    "Frequencia_ordenada_cifra = sorted(frequencia_cifra.items(), key=operator.itemgetter(1))\n",
    "Frequencia_ordenada_ingles = sorted(frequencia_letras_ingles.items(), key=operator.itemgetter(1))"
   ]
  },
  {
   "cell_type": "code",
   "execution_count": 5,
   "metadata": {
    "collapsed": false
   },
   "outputs": [
    {
     "data": {
      "text/plain": [
       "[('g', 1),\n",
       " ('f', 1),\n",
       " ('e', 5),\n",
       " ('a', 5),\n",
       " ('c', 5),\n",
       " ('q', 7),\n",
       " ('o', 7),\n",
       " ('l', 8),\n",
       " ('t', 13),\n",
       " ('n', 17),\n",
       " ('s', 17),\n",
       " ('y', 19),\n",
       " ('x', 20),\n",
       " ('v', 22),\n",
       " ('d', 23),\n",
       " ('h', 23),\n",
       " ('u', 24),\n",
       " ('p', 30),\n",
       " ('i', 41),\n",
       " ('w', 47),\n",
       " ('j', 48),\n",
       " ('k', 49),\n",
       " ('m', 62),\n",
       " ('b', 68),\n",
       " ('r', 84)]"
      ]
     },
     "execution_count": 5,
     "metadata": {},
     "output_type": "execute_result"
    }
   ],
   "source": [
    "Frequencia_ordenada_cifra"
   ]
  },
  {
   "cell_type": "code",
   "execution_count": 6,
   "metadata": {
    "collapsed": false
   },
   "outputs": [
    {
     "data": {
      "text/plain": [
       "[('z', 0.074),\n",
       " ('q', 0.095),\n",
       " ('x', 0.15),\n",
       " ('j', 0.153),\n",
       " ('k', 0.772),\n",
       " ('v', 0.978),\n",
       " ('b', 1.492),\n",
       " ('p', 1.929),\n",
       " ('y', 1.974),\n",
       " ('g', 2.015),\n",
       " ('f', 2.228),\n",
       " ('w', 2.36),\n",
       " ('m', 2.406),\n",
       " ('u', 2.758),\n",
       " ('c', 2.782),\n",
       " ('l', 4.024),\n",
       " ('d', 4.253),\n",
       " ('r', 5.987),\n",
       " ('h', 6.094),\n",
       " ('s', 6.327),\n",
       " ('n', 6.749),\n",
       " ('i', 6.996),\n",
       " ('o', 7.507),\n",
       " ('a', 8.167),\n",
       " ('t', 9.056),\n",
       " ('e', 12.702)]"
      ]
     },
     "execution_count": 6,
     "metadata": {},
     "output_type": "execute_result"
    }
   ],
   "source": [
    "Frequencia_ordenada_ingles"
   ]
  },
  {
   "cell_type": "code",
   "execution_count": 7,
   "metadata": {
    "collapsed": false
   },
   "outputs": [
    {
     "data": {
      "text/plain": [
       "['bj',\n",
       " 'bj',\n",
       " 'bj',\n",
       " 'bj',\n",
       " 'bj',\n",
       " 'bj',\n",
       " 'bmiq',\n",
       " 'bpmb',\n",
       " 'bpmb',\n",
       " 'bpmb',\n",
       " 'bpr',\n",
       " 'bpr',\n",
       " 'bpr',\n",
       " 'bpr',\n",
       " 'bpr',\n",
       " 'bpr',\n",
       " 'bpr',\n",
       " 'bpr',\n",
       " 'bpr',\n",
       " 'bpr',\n",
       " 'bpr',\n",
       " 'bpr',\n",
       " 'bprjuwri',\n",
       " 'but',\n",
       " 'cjnhd',\n",
       " 'cwbp',\n",
       " 'cwhh',\n",
       " 'dj',\n",
       " 'dj',\n",
       " 'djnlb',\n",
       " 'drry',\n",
       " 'fnmhwxwrd',\n",
       " 'hrxb',\n",
       " 'ibmbr',\n",
       " 'ibndt',\n",
       " 'ijnkd',\n",
       " 'ijnkdhrii',\n",
       " 'ijyr',\n",
       " 'invp',\n",
       " 'ipmhh',\n",
       " 'ipmsr',\n",
       " 'ipmsrhrii',\n",
       " 'irhx',\n",
       " 'iwokwxwvmkvr',\n",
       " 'jk',\n",
       " 'jkr',\n",
       " 'jqwkmcmk',\n",
       " 'jx',\n",
       " 'jx',\n",
       " 'jx',\n",
       " 'jx',\n",
       " 'jx',\n",
       " 'jx',\n",
       " 'jx',\n",
       " 'jx',\n",
       " 'jx',\n",
       " 'jxxru',\n",
       " 'kj',\n",
       " 'kjb',\n",
       " 'kjb',\n",
       " 'lmird',\n",
       " 'lmiwv',\n",
       " 'lnb',\n",
       " 'lr',\n",
       " 'lrvmnir',\n",
       " 'm',\n",
       " 'mk',\n",
       " 'mk',\n",
       " 'mkd',\n",
       " 'mkd',\n",
       " 'mkd',\n",
       " 'mkd',\n",
       " 'mkd',\n",
       " 'mkd',\n",
       " 'mnbpjuwbt',\n",
       " 'msshwvmbwjk',\n",
       " 'mvvjudwko',\n",
       " 'nkrashmwkrd',\n",
       " 'ower',\n",
       " 'pjsr',\n",
       " 'pmer',\n",
       " 'pmi',\n",
       " 'pr',\n",
       " 'qmbm',\n",
       " 'qmbm',\n",
       " 'qmbm',\n",
       " 'qmumbr',\n",
       " 'qmumbr',\n",
       " 'rabrkb',\n",
       " 'rashmkmbwjk',\n",
       " 'rashmwk',\n",
       " 'rasruwrkvr',\n",
       " 'rhnvwdmbr',\n",
       " 'riirkvr',\n",
       " 'riirkvr',\n",
       " 'rkhwopbrkrd',\n",
       " 'rmit',\n",
       " 'rmvp',\n",
       " 'sujsru',\n",
       " 'sumvbwvr',\n",
       " 'trmui',\n",
       " 'urmvp',\n",
       " 'urvjokwgwko',\n",
       " 'urymwk',\n",
       " 'urymwk',\n",
       " 'utn',\n",
       " 'vjnhd',\n",
       " 'vjyshrbr',\n",
       " 'vmsmlhr',\n",
       " 'w',\n",
       " 'w',\n",
       " 'w',\n",
       " 'wb',\n",
       " 'wbi',\n",
       " 'wi',\n",
       " 'wi',\n",
       " 'wi',\n",
       " 'wi',\n",
       " 'wk',\n",
       " 'wkbmvb',\n",
       " 'wkbrusurbmbwjk',\n",
       " 'wkbrusurbmbwjk',\n",
       " 'wkiswurd',\n",
       " 'xjhhjcwko',\n",
       " 'xjubt',\n",
       " 'xjvni',\n",
       " 'xwkmh',\n",
       " 'yjeryrkb',\n",
       " 'yjeryrkbi',\n",
       " 'yjeryrkbi',\n",
       " 'ymbinlmtmipw',\n",
       " 'ymibrut',\n",
       " 'ynib',\n",
       " 'yt',\n",
       " 'yt',\n",
       " 'yt',\n",
       " 'ytirhx',\n",
       " 'ywkd']"
      ]
     },
     "execution_count": 7,
     "metadata": {},
     "output_type": "execute_result"
    }
   ],
   "source": [
    "#Listando a quantidade de palavras na cifra\n",
    "\n",
    "frequencia_de_palavras = cifra.split(' ')\n",
    "frequencia_de_palavras.sort()\n",
    "frequencia_de_palavras"
   ]
  },
  {
   "cell_type": "code",
   "execution_count": 8,
   "metadata": {
    "collapsed": false
   },
   "outputs": [],
   "source": [
    "#Mapeamento\n",
    "\n",
    "word =''\n",
    "for k in cifra:\n",
    "    if(k=='r'):\n",
    "        word+='e'\n",
    "    elif(k=='b'):\n",
    "        word+='t'\n",
    "    elif(k=='c'):\n",
    "        word+='w'\n",
    "    elif(k=='m'):\n",
    "        word+='a'\n",
    "    elif(k=='n'):\n",
    "        word+='u'\n",
    "    elif(k=='p'):\n",
    "        word+='h'\n",
    "    elif(k=='j'):\n",
    "        word+='o'\n",
    "    elif(k=='x'):\n",
    "        word+='f'\n",
    "    elif(k=='i'):\n",
    "        word+='s'\n",
    "    elif(k=='w'):\n",
    "        word+='i'\n",
    "    elif(k=='u'):\n",
    "        word+='r'\n",
    "    elif(k=='s'):\n",
    "        word+='p'\n",
    "    elif(k=='k'):\n",
    "        word+='n'\n",
    "    elif(k=='v'):\n",
    "        word+='c'\n",
    "    elif(k=='l'):\n",
    "        word+='b'\n",
    "    elif(k=='h'):\n",
    "        word+='l'\n",
    "    elif(k=='q'):\n",
    "        word+='k'\n",
    "    elif(k=='o'):\n",
    "        word+='g'\n",
    "    elif(k=='t'):\n",
    "        word+='y'\n",
    "    elif(k=='a'):\n",
    "        word+='x'\n",
    "    elif(k=='y'):\n",
    "        word+='m'\n",
    "    elif(k=='e'):\n",
    "        word+='v'\n",
    "    elif(k=='f'):\n",
    "        word+='q'\n",
    "    \n",
    "    else:\n",
    "        word+=k"
   ]
  },
  {
   "cell_type": "code",
   "execution_count": 9,
   "metadata": {
    "collapsed": false
   },
   "outputs": [
    {
     "name": "stdout",
     "output_type": "stream",
     "text": [
      "because the practice of the basic movements of kata is the focus and mastery of self is the essence of matsubayashi ryu karate do i shall try to elucidate the movements of the kata according to my interpretation based on forty years of study it is not an easy task to explain each movement and its significance and some must remain unexplained to give a complete explanation one would have to be qualified and inspired to such an extent that he could reach the state of enlightened mind capable of recogniging soundless sound and shapeless shape i do not deem myself the final authority but my experience with kata has left no doubt that the following is the proper application and interpretation i offer my theories in the hope that the essence of okinawan karate will remain intact\n",
      " \n",
      "lrvmnir bpr sumvbwvr jx bpr lmiwv yjeryrkbi jx qmbm wi bpr xjvni mkd ymibrut jx irhx wi bpr riirkvr jx ymbinlmtmipw utn qmumbr dj w ipmhh but bj rhnvwdmbr bpr yjeryrkbi jx bpr qmbm mvvjudwko bj yt wkbrusurbmbwjk lmird jk xjubt trmui jx ibndt wb wi kjb mk rmit bmiq bj rashmwk rmvp yjeryrkb mkd wbi iwokwxwvmkvr mkd ijyr ynib urymwk nkrashmwkrd bj ower m vjyshrbr rashmkmbwjk jkr cjnhd pmer bj lr fnmhwxwrd mkd wkiswurd bj invp mk rabrkb bpmb pr vjnhd urmvp bpr ibmbr jx rkhwopbrkrd ywkd vmsmlhr jx urvjokwgwko ijnkdhrii ijnkd mkd ipmsrhrii ipmsr w dj kjb drry ytirhx bpr xwkmh mnbpjuwbt lnb yt rasruwrkvr cwbp qmbm pmi hrxb kj djnlb bpmb bpr xjhhjcwko wi bpr sujsru msshwvmbwjk mkd wkbrusurbmbwjk w jxxru yt bprjuwri wk bpr pjsr bpmb bpr riirkvr jx jqwkmcmk qmumbr cwhh urymwk wkbmvb\n"
     ]
    }
   ],
   "source": [
    "#Comparação entre o texto original e o texto cifrado\n",
    "print(word)\n",
    "print(\" \")\n",
    "print(cifra)"
   ]
  },
  {
   "cell_type": "markdown",
   "metadata": {},
   "source": [
    "## Texto original"
   ]
  },
  {
   "cell_type": "markdown",
   "metadata": {},
   "source": [
    "porque a prática dos movimentos básicos do kata é o foco e o domínio do eu é a essência do katata do matsubayashi ryu, eu tentarei elucidar os movimentos do kata de acordo com a minha interpretação com base em quarenta anos de estudo, não é uma tarefa fácil para explicar cada movimento e seu significado e alguns devem permanecer inexplicados para dar uma explicação completa, alguém teria que ser qualificado e inspirado a tal ponto que ele poderia alcançar o estado de mente iluminada capaz de reconhecer som insensível e forma sem forma, não considero eu mesmo a autoridade final, mas minha experiência com kata não deixou nenhuma dúvida de que o seguinte é a aplicação adequada e interpretação eu ofereço minhas teorias com a esperança de que a essência do karatê de Okinawa permanecerá intacta\n"
   ]
  },
  {
   "cell_type": "markdown",
   "metadata": {},
   "source": [
    "### Criptografando o texto original utilizando a cifra Playfair com chave \"HEAVEN\""
   ]
  },
  {
   "cell_type": "code",
   "execution_count": 63,
   "metadata": {
    "collapsed": false
   },
   "outputs": [],
   "source": [
    "#Está com alguns erros \n",
    "\n",
    "mapa ={'h':(0,0),'e':(0,1),'a':(0,2),'v':(0,3),\n",
    "      'e':(0,4),'n':(1,0),'b':(1,1),'c':(1,2),\n",
    "      'd':(1,3),'f':(1,4),'g':(2,0),'i':(2,1),\n",
    "      'k':(2,2),'l':(2,3),'m':(2,4),'o':(3,0),\n",
    "      'p':(3,1),'q':(3,2),'r':(3,3),'s':(3,4),\n",
    "      't':(4,0),'u':(4,1),'w':(4,2),'x':(4,3),\n",
    "      'y':(4,4)}\n",
    "\n",
    "tabela = [['H','E','A','V','E'],\n",
    "          ['N','B','C','D','F'],\n",
    "          ['G','I','K','L','M'],\n",
    "          ['O','P','Q','R','S'],\n",
    "          ['T','U','W','X','Y']]\n"
   ]
  },
  {
   "cell_type": "code",
   "execution_count": 35,
   "metadata": {
    "collapsed": false
   },
   "outputs": [],
   "source": [
    "texto_junto = \"\"\n",
    "for c in word:\n",
    "    if(c!=' '):\n",
    "        texto_junto+=c "
   ]
  },
  {
   "cell_type": "code",
   "execution_count": 47,
   "metadata": {
    "collapsed": false
   },
   "outputs": [],
   "source": [
    "texto_duplas = \"\"\n",
    "texto_duplas+=texto_junto[0]\n",
    "\n",
    "for i in range(1,len(texto_junto)):\n",
    "    if(texto_junto[i-1]==texto_junto[i]):\n",
    "        texto_duplas+='x'\n",
    "        texto_duplas+=texto_junto[i]\n",
    "    else:\n",
    "        texto_duplas+=texto_junto[i]"
   ]
  },
  {
   "cell_type": "code",
   "execution_count": 70,
   "metadata": {
    "collapsed": false
   },
   "outputs": [
    {
     "name": "stdout",
     "output_type": "stream",
     "text": [
      "EFAFWWFENEEQCEUWAFHQUWFECEBKFKDEFKHFEQMFCECEEQNEMFAFEQHFFKEQFETWMFFEMFEQNEYWEQEQHFFEMFCEEQEFTWEQBKTWQKVQUWVFBKNEDKDKVQUWFEWWBKCEFENEFKDEFKHFEQMFNEQKUWYWAFAFVQBKNKHQTWHFFEEQFECEBKHFCEFEHQMFVQTWTWCEEQMFUWVFBKBKHFUWHFCETWCEQKHQYWDKBKFEAFFKDEFKHFCEVFUWYWBKHFMFAFHFFEHFEQFKFKEQVQFKBKWWFEEQCEHFVFHQBKFEAFFKDKUWYWYWDKHFUWHQHQFEHQDKNEDEUWEFWCCEBKBKVFHFBKEQBKFEUWEQAFCEFEUWHFYWNEUWFEHQDKVQCENENEEQCEFEMFHFBKNEFEFEFKHFAFEQEFFEMFFEHQHFNKHFEQWWVFFEYWYWHQHFCEVFNEEQDKEQEQEQCEFEVFHFUWFEFEYWTWFEMFNEMFHFDKWWNEVQUWEFUWTWYWFEBKHFFEBKNECECECEDKMFHFVFWWUWUWCEYWNEMFDKDKXWHFBKUWFEVQEQVQEQEQBKCEBKHFHFBKUWVQVQUWUWHQBKMFMFVQTWNEHQBKEQHFNENEEQUWCEYWNEYWEQEQHFFEMFQKHFXWHFCECEFEBKYWVQFKBKBKUWAF\n"
     ]
    }
   ],
   "source": [
    "texto_cripto = \"\"\n",
    "for i in range(0,len(texto_duplas),2):\n",
    "    i,j = mapa[texto_duplas[i]]\n",
    "    k,l = mapa[texto_duplas[i]]\n",
    "    if(i==k):\n",
    "        texto_cripto+=tabela[i][(j+1)%5]\n",
    "        texto_cripto+=tabela[k][(l+1)%5]\n",
    "    elif(j==l):\n",
    "        texto_cripto+=tabela[(i+1)%5][j]\n",
    "        texto_cripto+=tabela[(k+1)%5][l]\n",
    "    else:\n",
    "        texto_cripto+=tabela[k][j]\n",
    "        texto_cripto+=tabela[i][l]\n",
    "    \n",
    "print(texto_cripto)\n",
    "    "
   ]
  },
  {
   "cell_type": "code",
   "execution_count": null,
   "metadata": {
    "collapsed": true
   },
   "outputs": [],
   "source": []
  }
 ],
 "metadata": {
  "anaconda-cloud": {},
  "kernelspec": {
   "display_name": "Python [conda root]",
   "language": "python",
   "name": "conda-root-py"
  },
  "language_info": {
   "codemirror_mode": {
    "name": "ipython",
    "version": 3
   },
   "file_extension": ".py",
   "mimetype": "text/x-python",
   "name": "python",
   "nbconvert_exporter": "python",
   "pygments_lexer": "ipython3",
   "version": "3.5.2"
  }
 },
 "nbformat": 4,
 "nbformat_minor": 1
}
